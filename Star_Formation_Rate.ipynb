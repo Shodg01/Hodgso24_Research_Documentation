{
 "cells": [
  {
   "cell_type": "markdown",
   "id": "002306d6",
   "metadata": {},
   "source": [
    "# This notebook is all about star formation rate (SFR)\n",
    "\n",
    "### How to plot it, how to make it smoother\n",
    "\n",
    "### You want to use the last dataset so you have access to all the stars made throughout the sim"
   ]
  },
  {
   "cell_type": "code",
   "execution_count": null,
   "id": "36bdfa1d",
   "metadata": {},
   "outputs": [],
   "source": [
    "# General script for SFR\n",
    "# this can be run in just a jupyter notebook\n",
    "# doesn't need to be submited as a job\n",
    "# repeat for all sims you want to do this for\n",
    "\n",
    "# imports\n",
    "import yt\n",
    "import numpy as np\n",
    "import matplotlib.pyplot as plt\n",
    "from yt.data_objects.particle_filters import add_particle_filter\n",
    "\n",
    "# load in data\n",
    "fiducial = yt.load(\"/mnt/research/galaxies-REU/sims/claire_isogal_sims/fiducial/DD0081/DD0081\")\n",
    "\n",
    "# make function for formed stars\n",
    "def formed_star(pfilter, data):\n",
    "    filter = data['all', 'creation_time'] >0\n",
    "    return filter\n",
    "\n",
    "# add the filter\n",
    "add_particle_filter('formed_star', function=formed_star, filtered_type='all', requires=['creation_time'])\n",
    "fiducial.add_particle_filter(\"formed_star\")\n",
    "\n",
    "# get all the data\n",
    "ad = fiducial.all_data()\n",
    "masses = ad[\"formed_star\", \"particle_mass\"].in_units(\"Msun\")\n",
    "formation_time = ad[\"formed_star\", \"creation_time\"].in_units(\"yr\")\n",
    "\n",
    "# make time range, bins, and histogram\n",
    "time_range = [0, 4e9]  # 4 Gyr\n",
    "n_bins = 1000\n",
    "hist_fid, bins_fid = np.histogram(formation_time,bins=n_bins,range=time_range)\n",
    "\n",
    "inds = np.digitize(formation_time, bins=bins_fid)\n",
    "time = (bins_fid[:-1] + bins_fid[1:]) / 2\n",
    "\n",
    "sfr = np.array([masses[inds == j + 1].sum() / (bins_fid[j + 1] - bins_fid[j]) for j in range(len(time))])\n",
    "sfr[sfr == 0] = np.nan\n",
    "\n",
    "# plot it\n",
    "plt.plot(time / 1e6, sfr, label='Fiducial')\n",
    "plt.yscale('log')\n",
    "plt.xlabel(\"Time  [Myr]\")\n",
    "plt.ylabel(r\"SFR  [M$_\\odot$ yr$^{-1}$]\")\n",
    "plt.grid()\n",
    "plt.legend();"
   ]
  },
  {
   "cell_type": "markdown",
   "id": "04ad3292",
   "metadata": {},
   "source": [
    "## This section is for making a smoothed out version of SFR\n",
    "\n",
    "### Made to run right after the above section\n",
    "\n",
    "This can also just run in a jupyter notebook"
   ]
  },
  {
   "cell_type": "code",
   "execution_count": null,
   "id": "d4fb5bd5",
   "metadata": {},
   "outputs": [],
   "source": [
    "np.nan_to_num(sfr, True)\n",
    "\n",
    "#function from https://stackoverflow.com/questions/14313510/how-to-calculate-rolling-moving-average-using-python-numpy-scipy\n",
    "def moving_average(x, w):\n",
    "    return np.convolve(x, np.ones(w), 'valid') / w\n",
    "\n",
    "sfr_smooth = moving_average(sfr, 3)\n",
    "\n",
    "new_time = np.linspace(1.5,4000,len(sfr_smooth))\n",
    "\n",
    "plt.figure(figsize=(14,7))\n",
    "plt.yscale('log')\n",
    "plt.title('Smooth SFR Over Whole Sim')\n",
    "plt.plot(new_time, sfr_smooth, label='Fiducial')\n",
    "plt.xlabel('Time [Myr]')\n",
    "plt.ylabel(r\"SFR  [M$_\\odot$ yr$^{-1}$]\")\n",
    "plt.grid()\n",
    "plt.legend()"
   ]
  },
  {
   "cell_type": "markdown",
   "id": "813b7d0b",
   "metadata": {},
   "source": [
    "## Repeat these steps for all your sims, and then can play around with plotting them all together"
   ]
  }
 ],
 "metadata": {
  "kernelspec": {
   "display_name": "Python 3 (ipykernel)",
   "language": "python",
   "name": "python3"
  },
  "language_info": {
   "codemirror_mode": {
    "name": "ipython",
    "version": 3
   },
   "file_extension": ".py",
   "mimetype": "text/x-python",
   "name": "python",
   "nbconvert_exporter": "python",
   "pygments_lexer": "ipython3",
   "version": "3.9.13"
  }
 },
 "nbformat": 4,
 "nbformat_minor": 5
}
